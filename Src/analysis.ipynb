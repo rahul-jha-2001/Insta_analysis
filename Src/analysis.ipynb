{
 "cells": [
  {
   "cell_type": "code",
   "execution_count": 67,
   "metadata": {},
   "outputs": [],
   "source": [
    "import pymongo\n",
    "import pandas as pd\n",
    "import os\n",
    "from dotenv import load_dotenv\n",
    "from datetime import datetime"
   ]
  },
  {
   "cell_type": "markdown",
   "metadata": {},
   "source": [
    "### Perfroming Hashtag analysis on the DATA of Individual post\n",
    "##  1) Seprate out numerical data and HashTags/ Caption \n",
    "## 2) Will only use Clips as they have reach data \n",
    "## 3) will only use the latest instance of a post "
   ]
  },
  {
   "cell_type": "code",
   "execution_count": 6,
   "metadata": {},
   "outputs": [],
   "source": [
    "load_dotenv()\n",
    "MONGO_DB =   os.getenv(\"MONGO_DB\")    \n",
    "Db = pymongo.MongoClient(MONGO_DB)"
   ]
  },
  {
   "cell_type": "code",
   "execution_count": 48,
   "metadata": {},
   "outputs": [],
   "source": [
    "\n",
    "posts = Db.Clean.Posts.find(projection = {\"_id\":0})"
   ]
  },
  {
   "cell_type": "code",
   "execution_count": 49,
   "metadata": {},
   "outputs": [],
   "source": [
    "df = pd.DataFrame(posts)"
   ]
  },
  {
   "cell_type": "code",
   "execution_count": 99,
   "metadata": {},
   "outputs": [
    {
     "data": {
      "text/plain": [
       "Index([    0,     1,     2,     3,     4,     5,     6,     7,     8,     9,\n",
       "       ...\n",
       "       11231, 11233, 11234, 11235, 11236, 11237, 11238, 11239, 11240, 11241],\n",
       "      dtype='int64', length=7611)"
      ]
     },
     "execution_count": 99,
     "metadata": {},
     "output_type": "execute_result"
    }
   ],
   "source": [
    "df.index"
   ]
  },
  {
   "cell_type": "code",
   "execution_count": 53,
   "metadata": {},
   "outputs": [
    {
     "data": {
      "text/plain": [
       "Index(['media_id', 'type', 'caption', 'hashtags', 'commentsCount',\n",
       "       'likesCount', 'videoViewCount', 'timestamp', 'ownerId', 'productType',\n",
       "       'taggedUsers', 'followersCount', 'ER_per', 'Reach_per', 'Likes_per',\n",
       "       'Cmnts_per', 'LC_ratio'],\n",
       "      dtype='object')"
      ]
     },
     "execution_count": 53,
     "metadata": {},
     "output_type": "execute_result"
    }
   ],
   "source": [
    "df.columns"
   ]
  },
  {
   "cell_type": "code",
   "execution_count": 50,
   "metadata": {},
   "outputs": [
    {
     "name": "stdout",
     "output_type": "stream",
     "text": [
      "<class 'pandas.core.frame.DataFrame'>\n",
      "RangeIndex: 11242 entries, 0 to 11241\n",
      "Data columns (total 17 columns):\n",
      " #   Column          Non-Null Count  Dtype         \n",
      "---  ------          --------------  -----         \n",
      " 0   media_id        11242 non-null  object        \n",
      " 1   type            11242 non-null  object        \n",
      " 2   caption         11242 non-null  object        \n",
      " 3   hashtags        11242 non-null  object        \n",
      " 4   commentsCount   11242 non-null  int64         \n",
      " 5   likesCount      11242 non-null  int64         \n",
      " 6   videoViewCount  7611 non-null   float64       \n",
      " 7   timestamp       11242 non-null  datetime64[ns]\n",
      " 8   ownerId         11242 non-null  object        \n",
      " 9   productType     7611 non-null   object        \n",
      " 10  taggedUsers     3341 non-null   object        \n",
      " 11  followersCount  11242 non-null  int64         \n",
      " 12  ER_per          11242 non-null  float64       \n",
      " 13  Reach_per       7611 non-null   float64       \n",
      " 14  Likes_per       11242 non-null  float64       \n",
      " 15  Cmnts_per       11242 non-null  float64       \n",
      " 16  LC_ratio        11236 non-null  float64       \n",
      "dtypes: datetime64[ns](1), float64(6), int64(3), object(7)\n",
      "memory usage: 1.5+ MB\n"
     ]
    }
   ],
   "source": [
    "df.info()"
   ]
  },
  {
   "cell_type": "code",
   "execution_count": 56,
   "metadata": {},
   "outputs": [],
   "source": []
  },
  {
   "cell_type": "code",
   "execution_count": 62,
   "metadata": {},
   "outputs": [],
   "source": []
  },
  {
   "cell_type": "code",
   "execution_count": 59,
   "metadata": {},
   "outputs": [
    {
     "name": "stdout",
     "output_type": "stream",
     "text": [
      "Unique values for column media_id\n",
      "['3357032502832118180' '3357026465022242692' '3356585424787923656' ...\n",
      " '3377271032262550134' '3376724566427471684' '3376544424451110496']\n",
      "Unique values for column type\n",
      "['Video' 'Sidecar' 'Image']\n",
      "Unique values for column caption\n",
      "['#hindu #hinduism #india #hindugod #shiva #hindugods #historicalplace #mahadev #oldplaces #vision #paceful #hinata #arch #myspirit #myself #frescos #hindus #omnamahshivaya #harharmahadev #ganesha #om #hindutemple #spirituality #indialovers #hinduwedding #ganesh #hindustan #hinduismo #indian #love'\n",
      " \"Don't forget to follow us\\n\\nLike\\nComment\\nShare\\nTag your friend's\\n\\n#hindu #hinduism #india #hindugod #shiva #hindugods #historicalplace #mahadev #oldplaces #vision #paceful #hinata #arch #myspirit #myself #frescos #hindus #omnamahshivaya #harharmahadev #ganesha #om #hindutemple #spirituality #indialovers #hinduwedding #ganesh #hindustan #hinduismo #indian\"\n",
      " \"Don't forget to follow us\\n\\nLike\\nComment\\nShare\\nTag your friend's\\n\\n#hindu #hinduism #india #hindugod #shiva #hindugods #historicalplace\\n#intalike #instagram #instareels #instadaily\\n#politics #religion #kattarhindu #instapic\\n#instaphoto #reels #indian #trending #viralreels\"\n",
      " ...\n",
      " '@jakegyllenhaal reminisces on working with the late great Patrick Swayze in Donnie Darko and the support he’s received from him over the years. #FallonTonight'\n",
      " 'Thank you… ✍️ #FallonTonight #ThankYouNotes'\n",
      " '@theestallion’s dog 4oe knows his tricks! #FallonFlashback']\n",
      "Unique values for column timestamp\n",
      "<DatetimeArray>\n",
      "['2024-04-29 16:57:56', '2024-04-29 16:39:31', '2024-04-29 02:04:03',\n",
      " '2024-04-29 02:01:19', '2024-03-03 06:32:36', '2024-02-26 15:00:39',\n",
      " '2024-02-03 02:57:11', '2024-01-30 10:48:19', '2024-01-29 05:30:46',\n",
      " '2024-01-28 08:52:51',\n",
      " ...\n",
      " '2024-05-28 09:27:59', '2024-05-28 09:23:14', '2024-05-26 16:53:36',\n",
      " '2024-05-26 11:05:16', '2024-05-27 14:48:19', '2024-05-26 14:41:23',\n",
      " '2024-05-27 21:09:38', '2024-05-27 15:03:16', '2024-05-26 20:55:58',\n",
      " '2024-05-26 14:58:21']\n",
      "Length: 5654, dtype: datetime64[ns]\n",
      "Unique values for column productType\n",
      "['clips' nan 'igtv']\n",
      "Unique values for column followersCount\n",
      "[    44739    161273   1085849     49344     62969    273441    243027\n",
      "    212256    119792    186591    343434   1074170    275200     78891\n",
      "   3738877    739503   1159754   3272087    971197   1258280   8653669\n",
      "    654237   1392962    112202    114546     24521    267663    150461\n",
      "     39919    262335    262336   1006648    884734   1111599    889699\n",
      "    408446    113005    249224  11568936    156695    463761    120890\n",
      "     96229    506662   1442707   4973665    103527    275505    152854\n",
      "   1026866     53308    380349    380350    231047     70704     70706\n",
      "    923098    156665    305138    180613    180616  11624296    255316\n",
      "   1187114   1187112    631312   4135633     90457    816943  10208151\n",
      "      7049   9573383   2349968   1442517   1098515   1487741   3740741\n",
      "    135422    837825     43785     34871     48047    115845     30133\n",
      "     10064     81646     11426     31959     43068    708511    487173\n",
      "    544540    165190    400962    741569   1652607   9254361    500812\n",
      "     84186    384327   1618383    680274   1474187  30248254  42509643\n",
      "    325997   1245668    501233    104709    236843    446634    311107\n",
      "    176167    799449    369281    743995   2364619   2117592    797415\n",
      "    522820    615332    755319    142254    383739    174188    572310\n",
      "    225913    420354   2719576   6619496   5783793   2475086   9600219\n",
      "   3943223   9964240   3794735   2045792   6264040   1798288   7419144\n",
      "  72678454   6729635   4875693   3213282    642000  16024969   5857864\n",
      "   9557672   2789801    224931    479579   1716723   6752722   1886167\n",
      "   1184171   7554922   3013745   1283823    136128     51317    130647\n",
      "     24580     93855    940435     12598     57600    127403    160131\n",
      "    394174     13250     82484     72576     63010    350456    169074\n",
      "    457973    440133     90740   3330011    141427     25337     16121\n",
      "    465795     99815   1781124     41132    164620     62391    125587\n",
      "    592841    491102     39068   8032124     10526     11832    770586\n",
      "     22526     31845     26424   7821263   7821262   7821265    218476\n",
      "   3006225   3006226   4225072   4225073   8751330   8751329    189875\n",
      "    170674     18163     47006   9241106  30118335    404581   4171480\n",
      "   3451320   8213502  13913975  13913974  37582437  37582436  14428376\n",
      "   1032800     30285    122952     60859     50149     30334    428713\n",
      "    428714     18263    167386     81842     44120     30550     26207\n",
      "     37520    312592     10720     23686      6951      9254     29670\n",
      "     18305    216187     21497      8885     11552     17184    289006\n",
      "     31391   5782140   5782141     54402    503800   4030071     20567\n",
      "    464683    375919     10937     22160    152856   6522016   2234268\n",
      "    947532   1633635   3462433   1670246    168659  78502652  61334012\n",
      "  61334013   2500350   9126837   9126836   1702125    151339  71189329\n",
      "  71189337    590597      4520      5638     26329     15460    166122\n",
      "    326592    298433     10273    108307    158874    359964     70548\n",
      "    104069     35825    972879  19317160  19317161  11851322   3017915\n",
      "  13553600   4702756   1166506   4469208   4469209  38707724  46819564\n",
      "  35054103  47328572   2360083   4941923  12458782   3962535   2379564\n",
      "  22880677    740832  34921409    194970    503785   1088167    167031\n",
      "    127936    215083   1842312     81138     80087    210215    114421\n",
      "     35501    555025   1849556    677276    782336    988168    111755\n",
      "    209609     87403   1730849   1132653    870135    517959   8574886\n",
      "      4372     26541      6088      1880     11514   1768869    182072\n",
      "      8864     33194   4361807     56477   1205876    122554      3783\n",
      "     25378     47132    460054    532651    273274     91234    809222\n",
      "     14967     58834   3779875     34388      8497     65524     39963\n",
      "     83914    202090     81736     22220    202048     10830    258299\n",
      "     73236      9951     24062     85580     51907    234940     76420\n",
      "    347841    700391 362802221    806059    183060    958053 309124181\n",
      "     15569    193316     23645   1383156    629151    107242   1714842\n",
      "   6484313     88334     12637    490124     40413   3424425     29372\n",
      "     44401     12408      6887   1123906    154190    397995    231700\n",
      "    122946    278151     49086    911385    417214    318861     14565\n",
      "     56665    354121     27536     28074    171734     33005    173728\n",
      "   1209260    118570   1717667   3369999     92560     20281     72678\n",
      "     19550     35810      7936     60881     47300    244057      7400\n",
      "   6248374    293354    750599      9496     25647   2482050    538321\n",
      "    326264   5141061      8104    100358   1331835    358209    178446\n",
      "     70991    417074     99621   1037235    174187      2852    216248\n",
      "     46746      4655   2498510    303866   1428760   2783899      2113\n",
      "    375496     90807    271431      2046    171088    100782    283819\n",
      "   1056247  44761263     45828    115531      6642     16788      5069\n",
      "     14215   1214877     51446   2684345    555343     53242      8938\n",
      "      8691    816929     94277     20738     88304     26874     41035\n",
      "    134310   4618061   3109755   1008575     25458     26202    928909\n",
      "    465969  11629501   9561655     12714   9591986   6753899   3802218\n",
      "    173860     91118   3012873    119796    186541    947099     53241\n",
      "     18745    631920   8031094    469851    122376     98348    506996\n",
      "    172079    838345     43034    421515    112321    572669     55025\n",
      "    125764   1716385    817775     32148    180825     81964   2475801\n",
      "    593801   3471796    343329     50129    161261     22254    212481\n",
      "    796093    481095     44730    104863  71156375    268215   1026663\n",
      "    745741    239146    889022     16500    800068    404578   9284030\n",
      "   2364601    590194     71019    377009   1186960   9253652     41103\n",
      "    446733    166939    130595    164999    769099    406384    190055\n",
      "     10575    152817   8753216    103714   4136641     81975     17379\n",
      "    530147   3007742     90523   1618677   1258841     43748     94037\n",
      "     51502   6619378     15450    277320    151905    467234  42502805\n",
      "    225976  30531035   1160315    325971     11830    160250   1033064\n",
      "     45652   2045666     10878     11428    370417    487235   8212040\n",
      "  10208236    169050   1445160  11597275     72792   3325890   1671614\n",
      "    654190  37587268   1885946   4030293     49325    439879   1393168\n",
      "   2719938    174829     78884     11643    136144    142579   6264019\n",
      "  78513371   2237550    113037    523839    431652    168969    243484\n",
      "    314403     30350    150445   7566679    743073     46960   1099857\n",
      "    680509     34862     30250    248978     61019   1802148    262324\n",
      "   1246095   3740555     10939   1710504     63294   6729241    224884\n",
      "    384700    114559   2116015   1633386    178500  10010096    170617\n",
      "    349996     18671      5745    642790   4970682   1476681    975707\n",
      "   3216264    273292     30385     57577     18151     26431    152982\n",
      "     10071   9235980   5788958   1487623    231562    157372   4879660\n",
      "  13912208    394157   1184845   3942704  14457181     39894    304950\n",
      "     24061   7839691   6526042     13449     37683     30158    459958\n",
      "    290711   1783120    616651     84136    275264      9385    756043\n",
      "   2507239     26320     99773     62976    491042   3537078     22537\n",
      "   2789733    218782     21799      9075      7057    124008   3271183\n",
      "     39139   3744659    711047   1076503    885260   8691261   2351548\n",
      "   1283920   1654555    501272    380840   1086947    216778   1444143\n",
      "    204830     48023  61341587   7430608  16044208]\n",
      "Unique values for column ER_per\n",
      "[4.77435794 4.32061512 2.99067927 ... 0.2544158  0.47582903 0.11349267]\n",
      "Unique values for column Reach_per\n",
      "[10.54337379 21.99199803  7.2129462  ...  6.16296548  5.6070577\n",
      "  1.05816379]\n",
      "Unique values for column Likes_per\n",
      "[4.70059679 4.25355953 2.94821073 ... 0.25253973 0.47345435 0.11271981]\n",
      "Unique values for column Cmnts_per\n",
      "[0.07376115 0.06705559 0.04246854 ... 0.00187607 0.00237469 0.00077286]\n",
      "Unique values for column LC_ratio\n",
      "[0.01569187 0.01576458 0.01440485 ... 0.0074288  0.00501567 0.00685651]\n"
     ]
    }
   ],
   "source": [
    "for i in df.columns:\n",
    "    if df[i].dtype == object:\n",
    "        if type(df[i][0]) == list:\n",
    "            continue\n",
    "    print(f\"Unique values for column {i}\")\n",
    "    print(df[i].unique())"
   ]
  },
  {
   "cell_type": "code",
   "execution_count": null,
   "metadata": {},
   "outputs": [],
   "source": [
    "df = df[['media_id', 'type', 'caption', 'hashtags', 'timestamp', 'productType', 'followersCount', 'ER_per', 'Reach_per', 'Likes_per',\n",
    "       'Cmnts_per', 'LC_ratio']]\n",
    "df = df[df[\"type\"]==\"Video\"]"
   ]
  },
  {
   "cell_type": "code",
   "execution_count": 63,
   "metadata": {},
   "outputs": [
    {
     "name": "stdout",
     "output_type": "stream",
     "text": [
      "Unique values for column media_id\n",
      "['3357032502832118180' '3357026465022242692' '3356585424787923656' ...\n",
      " '3377456023860990240' '3377271032262550134' '3376544424451110496']\n",
      "Unique values for column type\n",
      "['Video']\n",
      "Unique values for column caption\n",
      "['#hindu #hinduism #india #hindugod #shiva #hindugods #historicalplace #mahadev #oldplaces #vision #paceful #hinata #arch #myspirit #myself #frescos #hindus #omnamahshivaya #harharmahadev #ganesha #om #hindutemple #spirituality #indialovers #hinduwedding #ganesh #hindustan #hinduismo #indian #love'\n",
      " \"Don't forget to follow us\\n\\nLike\\nComment\\nShare\\nTag your friend's\\n\\n#hindu #hinduism #india #hindugod #shiva #hindugods #historicalplace #mahadev #oldplaces #vision #paceful #hinata #arch #myspirit #myself #frescos #hindus #omnamahshivaya #harharmahadev #ganesha #om #hindutemple #spirituality #indialovers #hinduwedding #ganesh #hindustan #hinduismo #indian\"\n",
      " \"Don't forget to follow us\\n\\nLike\\nComment\\nShare\\nTag your friend's\\n\\n#hindu #hinduism #india #hindugod #shiva #hindugods #historicalplace\\n#intalike #instagram #instareels #instadaily\\n#politics #religion #kattarhindu #instapic\\n#instaphoto #reels #indian #trending #viralreels\"\n",
      " ...\n",
      " '@annehathaway & Jimmy face off against @blackthought & @msmelanielynskey in our new game “Reverse Charades,” where each player tries to tell their partner how to act out the clue! #FallonTonight #ReverseCharades'\n",
      " '@jakegyllenhaal reminisces on working with the late great Patrick Swayze in Donnie Darko and the support he’s received from him over the years. #FallonTonight'\n",
      " '@theestallion’s dog 4oe knows his tricks! #FallonFlashback']\n",
      "Unique values for column timestamp\n",
      "<DatetimeArray>\n",
      "['2024-04-29 16:57:56', '2024-04-29 16:39:31', '2024-04-29 02:04:03',\n",
      " '2024-04-29 02:01:19', '2024-03-03 06:32:36', '2024-02-26 15:00:39',\n",
      " '2024-02-03 02:57:11', '2024-01-30 10:48:19', '2024-01-29 05:30:46',\n",
      " '2024-01-28 08:52:51',\n",
      " ...\n",
      " '2024-05-28 09:41:23', '2024-05-28 09:27:59', '2024-05-28 09:23:14',\n",
      " '2024-05-26 16:53:36', '2024-05-26 11:05:16', '2024-05-27 14:48:19',\n",
      " '2024-05-26 14:41:23', '2024-05-27 21:09:38', '2024-05-27 15:03:16',\n",
      " '2024-05-26 14:58:21']\n",
      "Length: 3909, dtype: datetime64[ns]\n",
      "Unique values for column productType\n",
      "['clips' 'igtv']\n",
      "Unique values for column followersCount\n",
      "[    44739    161273   1085849     49344     62969    273441    243027\n",
      "    212256    186591    343434   1074170    275200     78891   3738877\n",
      "    739503   1159754   3272087    971197   1258280   8653669    654237\n",
      "   1392962    112202     24521    267663    150461     39919    262335\n",
      "    262336   1006648    884734   1111599    889699    408446    113005\n",
      "    249224  11568936    156695    463761    120890     96229    506662\n",
      "   1442707   4973665    103527    275505    152854   1026866     53308\n",
      "    380349    380350     70704     70706    923098    156665    305138\n",
      "    180613    180616  11624296    255316   1187114   1187112    631312\n",
      "   4135633     90457    816943  10208151      7049   9573383   2349968\n",
      "   1098515   1487741   3740741    135422    837825     43785     34871\n",
      "     48047    115845     10064     81646     11426     31959     43068\n",
      "    708511    487173    544540    165190    400962    741569   1652607\n",
      "   9254361    500812     84186    384327   1618383    680274   1474187\n",
      "  30248254  42509643    325997   1245668    501233    104709    236843\n",
      "    446634    311107    176167    799449    369281    743995   2364619\n",
      "   2117592    797415    522820    615332    755319    142254    383739\n",
      "    174188    572310    225913    420354   2719576   6619496   5783793\n",
      "   2475086   9600219   9964240   3794735   2045792   6264040   7419144\n",
      "  72678454   6729635   4875693   3213282    642000  16024969   9557672\n",
      "   2789801    224931    479579   1716723   6752722   1184171   7554922\n",
      "   3013745   1283823    136128     51317    130647     24580     93855\n",
      "    940435     12598     57600    127403    160131    394174     13250\n",
      "     82484     72576    350456    457973    440133     90740   3330011\n",
      "    141427     25337     16121    465795     99815   1781124     41132\n",
      "    164620     62391    125587    592841     39068   8032124     10526\n",
      "     11832    770586     22526     26424   7821263   7821262   7821265\n",
      "    218476   3006225   3006226   8751330   8751329    189875    170674\n",
      "     18163     47006   9241106  30118335    404581   4171480   3451320\n",
      "   8213502  13913975  13913974  37582437  37582436  14428376     30285\n",
      "    122952     60859     50149     30334    428713    428714     18263\n",
      "    167386     81842     44120     30550     26207     37520    312592\n",
      "     10720     23686      6951      9254     29670     18305    216187\n",
      "     21497      8885     11552     17184    289006     31391   5782140\n",
      "   5782141     54402    503800   4030071     20567    375919     10937\n",
      "     22160    152856   6522016    947532   1633635   3462433   1670246\n",
      "    168659  78502652  61334012  61334013   2500350   9126837   9126836\n",
      "   1702125    151339  71189329  71189337      4520      5638     15460\n",
      "    166122    326592    298433     10273    108307    158874    359964\n",
      "     70548    104069     35825    972879  19317160  19317161  11851322\n",
      "   3017915  13553600   4702756   1166506   4469208   4469209  38707724\n",
      "  46819564  35054103  47328572   2360083   4941923  12458782   3962535\n",
      "   2379564  22880677    740832  34921409    194970    503785   1088167\n",
      "    167031    127936    215083   1842312     81138     80087    114421\n",
      "     35501    555025   1849556    677276    782336    988168    209609\n",
      "     87403   1132653    870135   8574886      4372     26541      1880\n",
      "     11514   1768869    182072      8864     33194   4361807     56477\n",
      "   1205876    122554      3783     25378     47132    460054    532651\n",
      "    273274     91234    809222     14967     58834   3779875     34388\n",
      "      8497     65524     39963     83914    202090     81736     22220\n",
      "    202048    258299     73236      9951     24062     85580     51907\n",
      "    234940     76420    347841    700391 362802221    806059    183060\n",
      "    958053 309124181     15569    193316     23645   1383156    629151\n",
      "    107242   1714842   6484313     88334    490124     40413   3424425\n",
      "     44401     12408      6887   1123906    154190    397995    231700\n",
      "    122946    278151     49086    911385    417214    318861     14565\n",
      "     56665    354121     27536     28074    171734     33005    173728\n",
      "   1209260    118570   1717667     92560     20281     72678     19550\n",
      "     35810      7936     60881     47300    244057      7400   6248374\n",
      "    293354    750599      9496     25647   2482050    538321    326264\n",
      "   5141061      8104    100358   1331835    358209    178446     70991\n",
      "    417074     99621   1037235    174187      2852    216248      4655\n",
      "   2498510    303866   1428760   2783899      2113    375496     90807\n",
      "    271431      2046    171088    100782    283819   1056247  44761263\n",
      "     45828    115531      6642     16788     14215   1214877     51446\n",
      "   2684345    555343     53242      8938      8691    816929     20738\n",
      "     88304     26874     41035    134310   4618061   1008575     25458\n",
      "     26202    928909    465969  11629501   9561655     12714   9591986\n",
      "   6753899   3802218    173860     91118   3012873    947099     53241\n",
      "     18745    631920   8031094    469851    122376     98348    506996\n",
      "    172079    838345     43034    421515    112321    572669     55025\n",
      "    125764   1716385    817775     32148    180825     81964   2475801\n",
      "    593801   3471796    343329     50129    161261     22254    212481\n",
      "    796093    481095     44730    104863  71156375    268215   1026663\n",
      "    745741    239146    889022     16500    800068    404578   9284030\n",
      "   2364601     71019    377009   1186960   9253652     41103    446733\n",
      "    166939    130595    164999    769099    406384    190055     10575\n",
      "    152817   8753216    103714   4136641     81975     17379    530147\n",
      "   3007742     90523   1618677   1258841     43748     94037     51502\n",
      "   6619378     15450    277320    151905    467234  42502805    225976\n",
      "  30531035   1160315    325971     11830    160250    186541     45652\n",
      "   2045666     10878     11428    370417    487235   8212040  10208236\n",
      "    169050   1445160  11597275     72792   3325890   1671614    654190\n",
      "  37587268   4030293     49325    439879   1393168   2719938    174829\n",
      "     78884     11643    136144    142579   6264019  78513371   2237550\n",
      "    113037    523839    431652    243484    314403     30350    150445\n",
      "   7566679    743073     46960   1099857    680509     34862     30250\n",
      "    248978     61019    262324   1246095   3740555     10939   1710504\n",
      "   6729241    224884    384700   2116015   1633386    178500  10010096\n",
      "    170617    349996     18671      5745    642790   4970682   1476681\n",
      "    975707   3216264    273292     30385     57577     18151    152982\n",
      "     10071   9235980   5788958   1487623    231562    157372   4879660\n",
      "  13912208    394157   1184845   3942704  14457181     39894    304950\n",
      "     24061   7839691   6526042     13449     37683    459958    290711\n",
      "   1783120    616651     84136    275264      9385    756043   2507239\n",
      "     99773     62976   3537078     22537   2789733    218782     21799\n",
      "      9075      7057    124008   3271183     39139   3744659    711047\n",
      "   1076503    885260   8691261   2351548   1283920   1654555    501272\n",
      "    380840   1086947    216778    204830     48023  61341587     26431\n",
      "   7430608  16044208]\n",
      "Unique values for column ER_per\n",
      "[4.77435794 4.32061512 2.99067927 ... 0.2544158  0.47582903 0.11349267]\n",
      "Unique values for column Reach_per\n",
      "[10.54337379 21.99199803  7.2129462  ...  6.16296548  5.6070577\n",
      "  1.05816379]\n",
      "Unique values for column Likes_per\n",
      "[4.70059679 4.25355953 2.94821073 ... 0.25253973 0.47345435 0.11271981]\n",
      "Unique values for column Cmnts_per\n",
      "[0.07376115 0.06705559 0.04246854 ... 0.00187607 0.00237469 0.00077286]\n",
      "Unique values for column LC_ratio\n",
      "[0.01569187 0.01576458 0.01440485 ... 0.0074288  0.00501567 0.00685651]\n"
     ]
    }
   ],
   "source": [
    "for i in df.columns:\n",
    "    if df[i].dtype == object:\n",
    "        if type(df[i][0]) == list:\n",
    "            continue\n",
    "    print(f\"Unique values for column {i}\")\n",
    "    print(df[i].unique())"
   ]
  },
  {
   "cell_type": "code",
   "execution_count": 68,
   "metadata": {},
   "outputs": [
    {
     "name": "stderr",
     "output_type": "stream",
     "text": [
      "C:\\Users\\rahul\\AppData\\Local\\Temp\\ipykernel_1696\\2270151253.py:1: SettingWithCopyWarning: \n",
      "A value is trying to be set on a copy of a slice from a DataFrame.\n",
      "Try using .loc[row_indexer,col_indexer] = value instead\n",
      "\n",
      "See the caveats in the documentation: https://pandas.pydata.org/pandas-docs/stable/user_guide/indexing.html#returning-a-view-versus-a-copy\n",
      "  df[\"Time_on_air\"] =  df[\"timestamp\"] - datetime.today()\n"
     ]
    }
   ],
   "source": [
    "df[\"Time_on_air\"] =  df[\"timestamp\"] - datetime.today()"
   ]
  },
  {
   "cell_type": "code",
   "execution_count": 73,
   "metadata": {},
   "outputs": [],
   "source": [
    "Max_Reach_dic = {}\n",
    "for i in df.media_id:\n",
    "\n",
    "    Max_Reach_dic[i] = df[df[\"media_id\"] == i][\"Reach_per\"].max() "
   ]
  },
  {
   "cell_type": "code",
   "execution_count": 77,
   "metadata": {},
   "outputs": [
    {
     "data": {
      "text/plain": [
       "True"
      ]
     },
     "execution_count": 77,
     "metadata": {},
     "output_type": "execute_result"
    }
   ],
   "source": [
    "len(list(Max_Reach_dic.keys())) == len(df[\"media_id\"].unique())"
   ]
  },
  {
   "cell_type": "code",
   "execution_count": 106,
   "metadata": {},
   "outputs": [
    {
     "data": {
      "text/plain": [
       "3912"
      ]
     },
     "execution_count": 106,
     "metadata": {},
     "output_type": "execute_result"
    }
   ],
   "source": [
    "len(df[\"media_id\"].unique())"
   ]
  },
  {
   "cell_type": "code",
   "execution_count": null,
   "metadata": {},
   "outputs": [],
   "source": []
  },
  {
   "cell_type": "code",
   "execution_count": 103,
   "metadata": {},
   "outputs": [],
   "source": [
    "indexs = []\n",
    "for i,j in zip(Max_Reach_dic.keys(),Max_Reach_dic.values()):\n",
    "\n",
    "    indexs.append(df[(df[\"media_id\"]==i) & (df[\"Reach_per\"]==j)].index[0])"
   ]
  },
  {
   "cell_type": "code",
   "execution_count": 112,
   "metadata": {},
   "outputs": [
    {
     "ename": "ValueError",
     "evalue": "('Lengths must match to compare', (7611,), (3912,))",
     "output_type": "error",
     "traceback": [
      "\u001b[1;31m---------------------------------------------------------------------------\u001b[0m",
      "\u001b[1;31mValueError\u001b[0m                                Traceback (most recent call last)",
      "Cell \u001b[1;32mIn[112], line 1\u001b[0m\n\u001b[1;32m----> 1\u001b[0m df[\u001b[43mdf\u001b[49m\u001b[38;5;241;43m.\u001b[39;49m\u001b[43mindex\u001b[49m\u001b[43m \u001b[49m\u001b[38;5;241;43m==\u001b[39;49m\u001b[43m \u001b[49m\u001b[43mindexs\u001b[49m]\n",
      "File \u001b[1;32mc:\\Users\\rahul\\anaconda3\\envs\\Insta_analysis\\Lib\\site-packages\\pandas\\core\\ops\\common.py:76\u001b[0m, in \u001b[0;36m_unpack_zerodim_and_defer.<locals>.new_method\u001b[1;34m(self, other)\u001b[0m\n\u001b[0;32m     72\u001b[0m             \u001b[38;5;28;01mreturn\u001b[39;00m \u001b[38;5;28mNotImplemented\u001b[39m\n\u001b[0;32m     74\u001b[0m other \u001b[38;5;241m=\u001b[39m item_from_zerodim(other)\n\u001b[1;32m---> 76\u001b[0m \u001b[38;5;28;01mreturn\u001b[39;00m \u001b[43mmethod\u001b[49m\u001b[43m(\u001b[49m\u001b[38;5;28;43mself\u001b[39;49m\u001b[43m,\u001b[49m\u001b[43m \u001b[49m\u001b[43mother\u001b[49m\u001b[43m)\u001b[49m\n",
      "File \u001b[1;32mc:\\Users\\rahul\\anaconda3\\envs\\Insta_analysis\\Lib\\site-packages\\pandas\\core\\arraylike.py:40\u001b[0m, in \u001b[0;36mOpsMixin.__eq__\u001b[1;34m(self, other)\u001b[0m\n\u001b[0;32m     38\u001b[0m \u001b[38;5;129m@unpack_zerodim_and_defer\u001b[39m(\u001b[38;5;124m\"\u001b[39m\u001b[38;5;124m__eq__\u001b[39m\u001b[38;5;124m\"\u001b[39m)\n\u001b[0;32m     39\u001b[0m \u001b[38;5;28;01mdef\u001b[39;00m \u001b[38;5;21m__eq__\u001b[39m(\u001b[38;5;28mself\u001b[39m, other):\n\u001b[1;32m---> 40\u001b[0m     \u001b[38;5;28;01mreturn\u001b[39;00m \u001b[38;5;28;43mself\u001b[39;49m\u001b[38;5;241;43m.\u001b[39;49m\u001b[43m_cmp_method\u001b[49m\u001b[43m(\u001b[49m\u001b[43mother\u001b[49m\u001b[43m,\u001b[49m\u001b[43m \u001b[49m\u001b[43moperator\u001b[49m\u001b[38;5;241;43m.\u001b[39;49m\u001b[43meq\u001b[49m\u001b[43m)\u001b[49m\n",
      "File \u001b[1;32mc:\\Users\\rahul\\anaconda3\\envs\\Insta_analysis\\Lib\\site-packages\\pandas\\core\\indexes\\base.py:7204\u001b[0m, in \u001b[0;36mIndex._cmp_method\u001b[1;34m(self, other, op)\u001b[0m\n\u001b[0;32m   7201\u001b[0m     result \u001b[38;5;241m=\u001b[39m ops\u001b[38;5;241m.\u001b[39mcomp_method_OBJECT_ARRAY(op, \u001b[38;5;28mself\u001b[39m\u001b[38;5;241m.\u001b[39m_values, other)\n\u001b[0;32m   7203\u001b[0m \u001b[38;5;28;01melse\u001b[39;00m:\n\u001b[1;32m-> 7204\u001b[0m     result \u001b[38;5;241m=\u001b[39m \u001b[43mops\u001b[49m\u001b[38;5;241;43m.\u001b[39;49m\u001b[43mcomparison_op\u001b[49m\u001b[43m(\u001b[49m\u001b[38;5;28;43mself\u001b[39;49m\u001b[38;5;241;43m.\u001b[39;49m\u001b[43m_values\u001b[49m\u001b[43m,\u001b[49m\u001b[43m \u001b[49m\u001b[43mother\u001b[49m\u001b[43m,\u001b[49m\u001b[43m \u001b[49m\u001b[43mop\u001b[49m\u001b[43m)\u001b[49m\n\u001b[0;32m   7206\u001b[0m \u001b[38;5;28;01mreturn\u001b[39;00m result\n",
      "File \u001b[1;32mc:\\Users\\rahul\\anaconda3\\envs\\Insta_analysis\\Lib\\site-packages\\pandas\\core\\ops\\array_ops.py:321\u001b[0m, in \u001b[0;36mcomparison_op\u001b[1;34m(left, right, op)\u001b[0m\n\u001b[0;32m    316\u001b[0m \u001b[38;5;28;01mif\u001b[39;00m \u001b[38;5;28misinstance\u001b[39m(rvalues, (np\u001b[38;5;241m.\u001b[39mndarray, ABCExtensionArray)):\n\u001b[0;32m    317\u001b[0m     \u001b[38;5;66;03m# TODO: make this treatment consistent across ops and classes.\u001b[39;00m\n\u001b[0;32m    318\u001b[0m     \u001b[38;5;66;03m#  We are not catching all listlikes here (e.g. frozenset, tuple)\u001b[39;00m\n\u001b[0;32m    319\u001b[0m     \u001b[38;5;66;03m#  The ambiguous case is object-dtype.  See GH#27803\u001b[39;00m\n\u001b[0;32m    320\u001b[0m     \u001b[38;5;28;01mif\u001b[39;00m \u001b[38;5;28mlen\u001b[39m(lvalues) \u001b[38;5;241m!=\u001b[39m \u001b[38;5;28mlen\u001b[39m(rvalues):\n\u001b[1;32m--> 321\u001b[0m         \u001b[38;5;28;01mraise\u001b[39;00m \u001b[38;5;167;01mValueError\u001b[39;00m(\n\u001b[0;32m    322\u001b[0m             \u001b[38;5;124m\"\u001b[39m\u001b[38;5;124mLengths must match to compare\u001b[39m\u001b[38;5;124m\"\u001b[39m, lvalues\u001b[38;5;241m.\u001b[39mshape, rvalues\u001b[38;5;241m.\u001b[39mshape\n\u001b[0;32m    323\u001b[0m         )\n\u001b[0;32m    325\u001b[0m \u001b[38;5;28;01mif\u001b[39;00m should_extension_dispatch(lvalues, rvalues) \u001b[38;5;129;01mor\u001b[39;00m (\n\u001b[0;32m    326\u001b[0m     (\u001b[38;5;28misinstance\u001b[39m(rvalues, (Timedelta, BaseOffset, Timestamp)) \u001b[38;5;129;01mor\u001b[39;00m right \u001b[38;5;129;01mis\u001b[39;00m NaT)\n\u001b[0;32m    327\u001b[0m     \u001b[38;5;129;01mand\u001b[39;00m lvalues\u001b[38;5;241m.\u001b[39mdtype \u001b[38;5;241m!=\u001b[39m \u001b[38;5;28mobject\u001b[39m\n\u001b[0;32m    328\u001b[0m ):\n\u001b[0;32m    329\u001b[0m     \u001b[38;5;66;03m# Call the method on lvalues\u001b[39;00m\n\u001b[0;32m    330\u001b[0m     res_values \u001b[38;5;241m=\u001b[39m op(lvalues, rvalues)\n",
      "\u001b[1;31mValueError\u001b[0m: ('Lengths must match to compare', (7611,), (3912,))"
     ]
    }
   ],
   "source": [
    "df"
   ]
  },
  {
   "cell_type": "code",
   "execution_count": 80,
   "metadata": {},
   "outputs": [
    {
     "ename": "SyntaxError",
     "evalue": "incomplete input (1734523815.py, line 2)",
     "output_type": "error",
     "traceback": [
      "\u001b[1;36m  Cell \u001b[1;32mIn[80], line 2\u001b[1;36m\u001b[0m\n\u001b[1;33m    print(df.where\u001b[0m\n\u001b[1;37m                  ^\u001b[0m\n\u001b[1;31mSyntaxError\u001b[0m\u001b[1;31m:\u001b[0m incomplete input\n"
     ]
    }
   ],
   "source": [
    "for i,j in zip(Max_Reach_dic.keys(),Max_Reach_dic.values()):\n",
    "    print(df.where()"
   ]
  },
  {
   "cell_type": "code",
   "execution_count": null,
   "metadata": {},
   "outputs": [],
   "source": []
  }
 ],
 "metadata": {
  "kernelspec": {
   "display_name": "Insta_analysis",
   "language": "python",
   "name": "python3"
  },
  "language_info": {
   "codemirror_mode": {
    "name": "ipython",
    "version": 3
   },
   "file_extension": ".py",
   "mimetype": "text/x-python",
   "name": "python",
   "nbconvert_exporter": "python",
   "pygments_lexer": "ipython3",
   "version": "3.12.2"
  }
 },
 "nbformat": 4,
 "nbformat_minor": 2
}
